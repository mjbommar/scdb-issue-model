{
 "cells": [
  {
   "cell_type": "code",
   "execution_count": 1,
   "id": "7087f50d",
   "metadata": {},
   "outputs": [],
   "source": [
    "%matplotlib inline\n",
    "\n",
    "# Imports\n",
    "import os\n",
    "\n",
    "# Packages\n",
    "import numpy\n",
    "import numpy.random\n",
    "import matplotlib.pyplot as plt\n",
    "\n",
    "import pandas\n",
    "import sklearn\n",
    "import sklearn.ensemble\n",
    "import sklearn.metrics\n",
    "import sklearn.model_selection\n",
    "import sklearn.experimental"
   ]
  },
  {
   "cell_type": "markdown",
   "id": "24be27c3",
   "metadata": {},
   "source": [
    "## Parameter setup\n",
    "\n",
    "The cell below sets key parameters like:\n",
    "* relative/absolute path to feature and target data\n",
    "* vector type, e.g., spacy model; see scripts/ folder --help\n",
    "* target name, e.g., issue or issueArea\n",
    "* court - only \"scotus\" currently supported\n",
    "* data_type - only \"opinions\" currently supported\n",
    "* year - SCDB release year\n",
    "* release - SCDB release version"
   ]
  },
  {
   "cell_type": "code",
   "execution_count": 2,
   "id": "51072f14",
   "metadata": {},
   "outputs": [],
   "source": [
    "# Set parameters\n",
    "path = \"../data/\"\n",
    "vector_type = \"spacy-en-trf-mean\"\n",
    "target_name = \"issueArea\"\n",
    "court = \"scotus\"\n",
    "data_type = \"opinions\"\n",
    "year = 2020\n",
    "release = 1\n",
    "\n",
    "# Get file names\n",
    "feature_file_path = os.path.join(path,\n",
    "                                 f\"features-{vector_type}-{court}-{data_type}-{year}-{release}.csv.gz\")\n",
    "if not os.path.exists(feature_file_path):\n",
    "    raise RuntimeError(f\"feature file {feature_file_path} does not exist for given parameters\")\n",
    "\n",
    "target_file_path = os.path.join(path,\n",
    "                                 f\"targets-{court}-{data_type}-{year}-{release}.csv.gz\")\n",
    "if not os.path.exists(target_file_path):\n",
    "    raise RuntimeError(f\"target file {target_file_path} does not exist for given parameters\")"
   ]
  },
  {
   "cell_type": "code",
   "execution_count": 3,
   "id": "fdb81ede",
   "metadata": {},
   "outputs": [
    {
     "name": "stdout",
     "output_type": "stream",
     "text": [
      "feature shape: (7551, 768)\n",
      "target shape: (7551,)\n"
     ]
    }
   ],
   "source": [
    "# read dataframes\n",
    "feature_df = pandas.read_csv(feature_file_path, low_memory=False, index_col=0)\n",
    "target_df = pandas.read_csv(target_file_path, index_col=0).iloc[:, 0]\n",
    "\n",
    "print(f\"feature shape: {feature_df.shape}\")\n",
    "print(f\"target shape: {target_df.shape}\")"
   ]
  },
  {
   "cell_type": "markdown",
   "id": "8d27c942",
   "metadata": {},
   "source": [
    "## Random State Setup\n",
    "\n",
    "We try to control experiment RNG state via numpy RandomState objects, which can be passed into sklearn in recent releases.\n",
    "This allows us to fix or purposefully randomize random contribution to results, e.g., train-test splits, subsampling, and tree splits."
   ]
  },
  {
   "cell_type": "code",
   "execution_count": 4,
   "id": "23b7aa08",
   "metadata": {},
   "outputs": [],
   "source": [
    "# Set seed/RandomState here\n",
    "seed = 0\n",
    "random_state = numpy.random.RandomState(seed=seed)"
   ]
  },
  {
   "cell_type": "markdown",
   "id": "a13a07b2",
   "metadata": {},
   "source": [
    "##  Model Pipeline Setup\n",
    "\n",
    "The cell belows defines a very simple cross-validated random forest pipeline with hyperparameter optimization.\n",
    "\n",
    "N.B. that `n_jobs` can be set to -1 or another value >1 to increase performance."
   ]
  },
  {
   "cell_type": "code",
   "execution_count": 14,
   "id": "73473326",
   "metadata": {},
   "outputs": [
    {
     "name": "stdout",
     "output_type": "stream",
     "text": [
      "Fitting 50 folds for each of 18 candidates, totalling 900 fits\n"
     ]
    },
    {
     "data": {
      "text/plain": [
       "GridSearchCV(cv=RepeatedStratifiedKFold(n_repeats=10, n_splits=5,\n",
       "            random_state=RandomState(MT19937) at 0x2759F7BF040),\n",
       "             estimator=RandomForestClassifier(random_state=RandomState(MT19937) at 0x2759F7BF040),\n",
       "             n_jobs=4,\n",
       "             param_grid={'max_depth': [64, None], 'max_features': ['auto'],\n",
       "                         'min_samples_leaf': [1, 2, 4],\n",
       "                         'n_estimators': [64, 256, 1024]},\n",
       "             scoring='f1_weighted', verbose=2)"
      ]
     },
     "execution_count": 14,
     "metadata": {},
     "output_type": "execute_result"
    }
   ],
   "source": [
    "## Random forest model\n",
    "param_search_space = {\"n_estimators\": [2**6, 2**8, 2**10],\n",
    "                     \"max_depth\": [None],\n",
    "                     \"min_samples_leaf\": [2**0, 2**1, 2**2],\n",
    "                      \"max_features\": [\"auto\"],\n",
    "                     }\n",
    "\n",
    "rf_model = sklearn.ensemble.RandomForestClassifier(random_state=random_state)\n",
    "cv = sklearn.model_selection.RepeatedStratifiedKFold(n_splits=5, random_state=random_state)\n",
    "model_selector = sklearn.model_selection.GridSearchCV(estimator=rf_model, param_grid=param_search_space, \n",
    "                                     cv=cv, scoring=\"f1_weighted\", verbose=2, n_jobs=4)\n",
    "model_selector.fit(feature_df, target_df)"
   ]
  },
  {
   "cell_type": "markdown",
   "id": "91dd1ca7",
   "metadata": {},
   "source": [
    "## Insample Model Assessment\n",
    "\n",
    "This is in-sample performance assessment for the *refit*, hyperparameter-optimized model from above.\n",
    "\n",
    "These results are not \"real\" - but poor performance or class-specific issues here need to be reviewed."
   ]
  },
  {
   "cell_type": "code",
   "execution_count": 17,
   "id": "55d2ff38",
   "metadata": {},
   "outputs": [
    {
     "name": "stdout",
     "output_type": "stream",
     "text": [
      "max_depth=64\n",
      "max_features=auto\n",
      "min_samples_leaf=1\n",
      "n_estimators=1024\n",
      "\n",
      "              precision    recall  f1-score   support\n",
      "\n",
      "           1       1.00      1.00      1.00      1657\n",
      "           2       1.00      1.00      1.00      1213\n",
      "           3       1.00      1.00      1.00       608\n",
      "           4       1.00      1.00      1.00       311\n",
      "           5       1.00      1.00      1.00        91\n",
      "           6       1.00      1.00      1.00        81\n",
      "           7       1.00      1.00      1.00       327\n",
      "           8       1.00      1.00      1.00      1481\n",
      "           9       1.00      1.00      1.00      1044\n",
      "          10       1.00      1.00      1.00       348\n",
      "          11       1.00      1.00      1.00        82\n",
      "          12       1.00      1.00      1.00       292\n",
      "          13       1.00      1.00      1.00        16\n",
      "\n",
      "    accuracy                           1.00      7551\n",
      "   macro avg       1.00      1.00      1.00      7551\n",
      "weighted avg       1.00      1.00      1.00      7551\n",
      "\n"
     ]
    }
   ],
   "source": [
    "# Insample prediction assessment\n",
    "insample_prediction_list = model_selector.best_estimator_.predict(feature_df)\n",
    "for k in model_selector.best_params_:\n",
    "    print(f\"{k}={model_selector.best_params_[k]}\")\n",
    "print(\"\")\n",
    "print(sklearn.metrics.classification_report(target_df, insample_prediction_list))\n",
    "\n",
    "cv_result_df = pandas.DataFrame(model_selector.cv_results_)"
   ]
  },
  {
   "cell_type": "markdown",
   "id": "8518bac8",
   "metadata": {},
   "source": [
    "## Train-Test Split Assessment\n",
    "\n",
    "This is \"out-of-sample\" assessment with a 75/25 train/test split.  The hyperparameters are obviously selected from the process above, and the transformer models include \"future\" information relative to the cases, but this is how most researchers assess performance for comparison."
   ]
  },
  {
   "cell_type": "code",
   "execution_count": 18,
   "id": "15551f84",
   "metadata": {},
   "outputs": [
    {
     "name": "stdout",
     "output_type": "stream",
     "text": [
      "\n",
      "Model assessment:\n",
      "              precision    recall  f1-score   support\n",
      "\n",
      "           1       0.53      0.79      0.64       429\n",
      "           2       0.42      0.41      0.42       304\n",
      "           3       0.73      0.29      0.41       143\n",
      "           4       0.00      0.00      0.00        72\n",
      "           5       0.00      0.00      0.00        27\n",
      "           6       0.00      0.00      0.00        20\n",
      "           7       1.00      0.01      0.02        90\n",
      "           8       0.40      0.77      0.53       357\n",
      "           9       0.38      0.26      0.31       276\n",
      "          10       0.50      0.04      0.07        77\n",
      "          11       0.56      0.23      0.32        22\n",
      "          12       1.00      0.10      0.19        67\n",
      "          13       0.00      0.00      0.00         4\n",
      "\n",
      "    accuracy                           0.46      1888\n",
      "   macro avg       0.42      0.22      0.22      1888\n",
      "weighted avg       0.49      0.46      0.40      1888\n",
      "\n"
     ]
    },
    {
     "name": "stderr",
     "output_type": "stream",
     "text": [
      "C:\\ProgramData\\Anaconda3\\envs\\scdb-issue-model\\lib\\site-packages\\sklearn\\metrics\\_classification.py:1248: UndefinedMetricWarning: Precision and F-score are ill-defined and being set to 0.0 in labels with no predicted samples. Use `zero_division` parameter to control this behavior.\n",
      "  _warn_prf(average, modifier, msg_start, len(result))\n",
      "C:\\ProgramData\\Anaconda3\\envs\\scdb-issue-model\\lib\\site-packages\\sklearn\\metrics\\_classification.py:1248: UndefinedMetricWarning: Precision and F-score are ill-defined and being set to 0.0 in labels with no predicted samples. Use `zero_division` parameter to control this behavior.\n",
      "  _warn_prf(average, modifier, msg_start, len(result))\n",
      "C:\\ProgramData\\Anaconda3\\envs\\scdb-issue-model\\lib\\site-packages\\sklearn\\metrics\\_classification.py:1248: UndefinedMetricWarning: Precision and F-score are ill-defined and being set to 0.0 in labels with no predicted samples. Use `zero_division` parameter to control this behavior.\n",
      "  _warn_prf(average, modifier, msg_start, len(result))\n"
     ]
    }
   ],
   "source": [
    "# get splits\n",
    "feature_train_df, feature_test_df, target_train_df, target_test_df = \\\n",
    "    sklearn.model_selection.train_test_split(feature_df, target_df, train_size=0.75)\n",
    "\n",
    "# setup and fit model\n",
    "rf_split_model = sklearn.ensemble.RandomForestClassifier(**model_selector.best_params_, random_state=random_state)\n",
    "rf_split_model.fit(feature_train_df, target_train_df)\n",
    "\n",
    "# print assessment\n",
    "print(\"\\nModel assessment:\")\n",
    "rf_prediction_list = rf_split_model.predict(feature_test_df)\n",
    "print(sklearn.metrics.classification_report(target_test_df, rf_prediction_list))"
   ]
  },
  {
   "cell_type": "markdown",
   "id": "68ed0c37",
   "metadata": {},
   "source": [
    "## Model parameter and performance explorations"
   ]
  },
  {
   "cell_type": "code",
   "execution_count": 25,
   "id": "13ae2037",
   "metadata": {},
   "outputs": [
    {
     "data": {
      "image/png": "[encoded data removed]",
      "text/plain": [
       "<Figure size 432x288 with 1 Axes>"
      ]
     },
     "metadata": {
      "needs_background": "light"
     },
     "output_type": "display_data"
    }
   ],
   "source": [
    "# Plot F1 score by model rank with error bars from CV\n",
    "f = plt.figure()\n",
    "f.gca().errorbar(x=cv_result_df[\"rank_test_score\"], y=cv_result_df[\"mean_test_score\"],\n",
    "                yerr=cv_result_df[\"std_test_score\"], fmt='.')\n",
    "\n",
    "_ = f.gca().set_xlabel(\"model rank\")\n",
    "_ = f.gca().set_ylabel(\"mean test score\")\n",
    "_ = f.gca().set_title(\"mean test score by model rank\")"
   ]
  },
  {
   "cell_type": "code",
   "execution_count": 26,
   "id": "250ad9a6",
   "metadata": {},
   "outputs": [
    {
     "data": {
      "image/png": "[encoded data removed]",
      "text/plain": [
       "<Figure size 432x288 with 1 Axes>"
      ]
     },
     "metadata": {
      "needs_background": "light"
     },
     "output_type": "display_data"
    }
   ],
   "source": [
    "# Plot F1 score by number of trees with error bars from CV\n",
    "f = plt.figure()\n",
    "f.gca().errorbar(x=[p['n_estimators'] for p in cv_result_df[\"params\"]],\n",
    "                y=cv_result_df[\"mean_test_score\"],\n",
    "                 yerr=cv_result_df[\"std_test_score\"], fmt='.')\n",
    "\n",
    "_ = f.gca().set_xlabel(\"number of trees\")\n",
    "_ = f.gca().set_ylabel(\"mean test score\")\n",
    "_ = f.gca().set_title(\"mean test score by number of trees\")"
   ]
  },
  {
   "cell_type": "code",
   "execution_count": 27,
   "id": "3562c448",
   "metadata": {},
   "outputs": [
    {
     "data": {
      "image/png": "[encoded data removed]",
      "text/plain": [
       "<Figure size 432x288 with 1 Axes>"
      ]
     },
     "metadata": {
      "needs_background": "light"
     },
     "output_type": "display_data"
    }
   ],
   "source": [
    "# plot distribution of feature importances\n",
    "f = plt.figure()\n",
    "_ = f.gca().hist(model_selector.best_estimator_.feature_importances_, bins=25)\n",
    "_ = f.gca().set_xlabel(\"feature importance\")\n",
    "_ = f.gca().set_ylabel(\"number of features\")\n",
    "_ = f.gca().set_title(\"distribution of feature importance values\")"
   ]
  },
  {
   "cell_type": "code",
   "execution_count": null,
   "id": "45d2bcd1",
   "metadata": {},
   "outputs": [],
   "source": []
  }
 ],
 "metadata": {
  "kernelspec": {
   "display_name": "Python 3",
   "language": "python",
   "name": "python3"
  },
  "language_info": {
   "codemirror_mode": {
    "name": "ipython",
    "version": 3
   },
   "file_extension": ".py",
   "mimetype": "text/x-python",
   "name": "python",
   "nbconvert_exporter": "python",
   "pygments_lexer": "ipython3",
   "version": "3.8.10"
  }
 },
 "nbformat": 4,
 "nbformat_minor": 5
}
